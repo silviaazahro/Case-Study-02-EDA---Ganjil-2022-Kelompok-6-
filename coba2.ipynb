{
  "nbformat": 4,
  "nbformat_minor": 0,
  "metadata": {
    "colab": {
      "provenance": [],
      "authorship_tag": "ABX9TyOwhfyA+5c4BiECPRcK9E54",
      "include_colab_link": true
    },
    "kernelspec": {
      "name": "python3",
      "display_name": "Python 3"
    },
    "language_info": {
      "name": "python"
    }
  },
  "cells": [
    {
      "cell_type": "markdown",
      "metadata": {
        "id": "view-in-github",
        "colab_type": "text"
      },
      "source": [
        "<a href=\"https://colab.research.google.com/github/silviaazahro/Case-Study-02-EDA---Ganjil-2022-Kelompok-6-/blob/main/coba2.ipynb\" target=\"_parent\"><img src=\"https://colab.research.google.com/assets/colab-badge.svg\" alt=\"Open In Colab\"/></a>"
      ]
    },
    {
      "cell_type": "code",
      "execution_count": null,
      "metadata": {
        "id": "AIqYrpB7wKh5"
      },
      "outputs": [],
      "source": [
        "satu dua tiga"
      ]
    },
    {
      "cell_type": "code",
      "source": [
        "import pandas as pd"
      ],
      "metadata": {
        "id": "glTgGbO6ybvj"
      },
      "execution_count": 1,
      "outputs": []
    }
  ]
}